{
 "cells": [
  {
   "cell_type": "markdown",
   "source": [
    "# 文件读取中中文编码乱码怎么解决？"
   ],
   "metadata": {
    "collapsed": false
   },
   "id": "53ea9036602b10f3"
  },
  {
   "cell_type": "code",
   "execution_count": 3,
   "outputs": [
    {
     "name": "stdout",
     "output_type": "stream",
     "text": [
      "你好\n",
      "浣犲ソ\n"
     ]
    }
   ],
   "source": [
    "# 如果文件是 utf-8 编码\n",
    "with open('tmp1.txt', 'r', encoding='utf-8') as f:\n",
    "    content1 = f.read()\n",
    "\n",
    "# 如果文件是 gbk 编码\n",
    "with open('tmp2.txt', 'r', encoding='gbk') as f:\n",
    "    content2 = f.read()\n",
    "\n",
    "print(content1)\n",
    "print(content2)"
   ],
   "metadata": {
    "collapsed": false,
    "ExecuteTime": {
     "end_time": "2024-09-13T06:14:44.635077100Z",
     "start_time": "2024-09-13T06:14:44.555145Z"
    }
   },
   "id": "3ce6da8270ce2541"
  },
  {
   "cell_type": "markdown",
   "source": [
    "# 大文档应该如何读取？"
   ],
   "metadata": {
    "collapsed": false
   },
   "id": "9290965e1606db41"
  },
  {
   "cell_type": "code",
   "execution_count": 4,
   "outputs": [
    {
     "name": "stdout",
     "output_type": "stream",
     "text": [
      "你好\n",
      "\n",
      "第一行\n",
      "\n",
      "第二行\n",
      "\n",
      "第三行\n"
     ]
    }
   ],
   "source": [
    "# 处理函数\n",
    "def process(line):\n",
    "    print(line)\n",
    "    \n",
    "# 逐行读取文件\n",
    "with open('tmp.txt', 'r', encoding='utf-8') as f:\n",
    "    for line in f:\n",
    "        process(line)  # 逐行处理"
   ],
   "metadata": {
    "collapsed": false,
    "ExecuteTime": {
     "end_time": "2024-09-13T06:14:44.703640100Z",
     "start_time": "2024-09-13T06:14:44.581900500Z"
    }
   },
   "id": "d4eb7ab91deaa586"
  }
 ],
 "metadata": {
  "kernelspec": {
   "display_name": "Python 3",
   "language": "python",
   "name": "python3"
  },
  "language_info": {
   "codemirror_mode": {
    "name": "ipython",
    "version": 2
   },
   "file_extension": ".py",
   "mimetype": "text/x-python",
   "name": "python",
   "nbconvert_exporter": "python",
   "pygments_lexer": "ipython2",
   "version": "2.7.6"
  }
 },
 "nbformat": 4,
 "nbformat_minor": 5
}
