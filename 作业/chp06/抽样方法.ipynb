{
 "cells": [
  {
   "cell_type": "markdown",
   "id": "c28eb2bd",
   "metadata": {},
   "source": [
    "# 抽样\n",
    "\n",
    "## 1.随机抽样\n",
    "    \n",
    "    对1000条样本，抽取10%，可以对所有样本进行编号，按照编号随机抽取编号。\n",
    "    "
   ]
  },
  {
   "cell_type": "code",
   "execution_count": 1,
   "id": "4ed8c26a",
   "metadata": {
    "ExecuteTime": {
     "end_time": "2024-10-22T07:34:44.892271100Z",
     "start_time": "2024-10-22T07:34:44.831674800Z"
    }
   },
   "outputs": [
    {
     "name": "stdout",
     "output_type": "stream",
     "text": [
      "[652, 953, 948, 442, 235, 680, 10, 45, 670, 819, 541, 892, 890, 274, 429, 184, 872, 72, 289, 398, 154, 211, 231, 813, 0, 856, 335, 581, 673, 996, 302, 610, 760, 549, 217, 391, 790, 297, 361, 582, 854, 747, 641, 975, 83, 800, 606, 144, 578, 779, 750, 275, 122, 75, 252, 739, 406, 791, 61, 749, 201, 432, 758, 898, 519, 330, 752, 33, 970, 785, 570, 627, 136, 672, 176, 771, 203, 445, 488, 106, 321, 433, 121, 707, 769, 245, 233, 424, 955, 808, 357, 246, 763, 384, 344, 956, 49, 675, 850, 865]\n"
     ]
    }
   ],
   "source": [
    "import random\n",
    "number = 1000\n",
    "data = range(number)\n",
    "print(random.sample(data,100))"
   ]
  },
  {
   "cell_type": "markdown",
   "id": "df9c19fa",
   "metadata": {},
   "source": [
    "后续根据获得的编号提取对应的样本\n",
    "\n",
    "### 思考并完成代码编写：如果需要又放回的抽取10%，代码应该如何构建\n"
   ]
  },
  {
   "cell_type": "markdown",
   "id": "f859a46d",
   "metadata": {},
   "source": [
    "## 2. 分层抽样\n",
    "    机器学习分类标签中的类标签0和1，比例为3:7，为保持原有比例，那就可以分层抽样，按照每个分组单独随机抽样"
   ]
  },
  {
   "cell_type": "code",
   "execution_count": 2,
   "id": "3b00c2b8",
   "metadata": {
    "ExecuteTime": {
     "end_time": "2024-10-22T07:34:46.635854300Z",
     "start_time": "2024-10-22T07:34:44.851720200Z"
    }
   },
   "outputs": [
    {
     "name": "stdout",
     "output_type": "stream",
     "text": [
      "   层次  测量值\n",
      "10  B    5\n",
      "26  C    7\n",
      "24  C    4\n",
      "23  C    3\n",
      "8   A    2\n",
      "16  B    2\n",
      "22  C    2\n",
      "15  B    1\n",
      "27  C    8\n",
      "12  B    7\n",
      "18  B    4\n",
      "19  B    8\n",
      "25  C    5\n",
      "4   A    5\n",
      "6   A    8\n",
      "1   A    2\n",
      "29  C    3\n",
      "20  C    9\n",
      "5   A    6\n",
      "14  B    9\n",
      "0   A    1\n",
      "3   A    4\n",
      "2   A    3\n",
      "13  B    8\n"
     ]
    }
   ],
   "source": [
    "from sklearn.model_selection import train_test_split\n",
    "import pandas as pd\n",
    "#查询train_test_split函数，了解函数使用方法\n",
    "#test_size表示测试集所占有的比例\n",
    "df = pd.DataFrame({\n",
    "    '层次': ['A', 'A', 'A','A', 'A', 'A', 'A','A', 'A', 'A', 'B', 'B', 'B','B', 'B', 'B','B', 'B', 'B','B','C', 'C', 'C','C', 'C', 'C','C', 'C', 'C','C'],\n",
    "    '测量值': [1, 2, 3, 4, 5, 6, 8, 9, 2, 3, 5, 6, 7, 8, 9,1, 2, 3, 4, 8, 9,1, 2, 3, 4, 5, 7, 8, 9, 3]\n",
    "})\n",
    "stratified_sample, _ = train_test_split(df, test_size=0.2, stratify=df[['层次']])\n",
    "print (stratified_sample)"
   ]
  },
  {
   "cell_type": "markdown",
   "id": "63da3a71",
   "metadata": {},
   "source": [
    "思考： stratify的作用是什么？"
   ]
  },
  {
   "cell_type": "markdown",
   "id": "9ad41eef",
   "metadata": {},
   "source": [
    "## 3. 系统抽样\n",
    "    按照每9个元素进行采样"
   ]
  },
  {
   "cell_type": "code",
   "execution_count": 3,
   "id": "05875cf2",
   "metadata": {
    "ExecuteTime": {
     "end_time": "2024-10-22T07:34:46.694671300Z",
     "start_time": "2024-10-22T07:34:46.636862400Z"
    }
   },
   "outputs": [
    {
     "name": "stdout",
     "output_type": "stream",
     "text": [
      "[1, 6, 11, 16, 21, 26, 31, 36, 41, 46, 51, 56, 61, 66, 71, 76, 81, 86, 91, 96]\n"
     ]
    }
   ],
   "source": [
    "number = 100\n",
    "step = 5\n",
    "sample = [element for element in range(1, number, step)]\n",
    "print (sample)"
   ]
  },
  {
   "cell_type": "markdown",
   "id": "516c2838",
   "metadata": {},
   "source": [
    "## 4. 整群抽样\n"
   ]
  },
  {
   "cell_type": "code",
   "execution_count": 4,
   "id": "1d3dd139",
   "metadata": {
    "ExecuteTime": {
     "end_time": "2024-10-22T07:34:46.713391500Z",
     "start_time": "2024-10-22T07:34:46.654646200Z"
    }
   },
   "outputs": [
    {
     "name": "stdout",
     "output_type": "stream",
     "text": [
      "[41, 42, 43, 44, 45, 46, 47, 48, 49, 50, 51, 52, 53, 54, 55, 56, 57, 58, 59, 60, 61, 62, 63, 64, 65, 66, 67, 68, 69, 70, 71, 72, 73, 74, 75, 76, 77, 78, 79, 80]\n"
     ]
    },
    {
     "name": "stderr",
     "output_type": "stream",
     "text": [
      "C:\\Users\\11403\\AppData\\Local\\Temp\\ipykernel_4888\\192326560.py:11: DeprecationWarning: Sampling from a set deprecated\n",
      "since Python 3.9 and will be removed in a subsequent version.\n",
      "  cluster_to_select =random.sample(set(cluster_ids), sample_clusters)\n"
     ]
    }
   ],
   "source": [
    "import numpy as np\n",
    "import random\n",
    "clusters=5\n",
    "pop_size = 100\n",
    "sample_clusters=2\n",
    "# 间隔为 20, 从 1 到 5 依次分配集群100个样本的聚类 ID，这一步已经假设聚类完成\n",
    "cluster_ids = np.repeat([range(1,clusters+1)], pop_size/clusters)\n",
    "# print(cluster_ids)\n",
    "# 随机选出两个聚类的 ID\n",
    "# cluster_to_select = np.random.choice(cluster_ids, sample_clusters,replace=False)\n",
    "cluster_to_select =random.sample(set(cluster_ids), sample_clusters)\n",
    "# 提取聚类 ID 对应的样本\n",
    "indexes = [i for i, x in enumerate(cluster_ids) if x in cluster_to_select]\n",
    "# 提取样本序号对应的样本值\n",
    "cluster_associated_elements = [el for idx, el in enumerate(range(1, 101)) if idx in indexes]\n",
    "print (cluster_associated_elements)\n"
   ]
  },
  {
   "cell_type": "code",
   "execution_count": 4,
   "id": "67199fcf",
   "metadata": {
    "ExecuteTime": {
     "end_time": "2024-10-22T07:34:46.714405800Z",
     "start_time": "2024-10-22T07:34:46.668536800Z"
    }
   },
   "outputs": [],
   "source": []
  }
 ],
 "metadata": {
  "kernelspec": {
   "display_name": "Python 3 (ipykernel)",
   "language": "python",
   "name": "python3"
  },
  "language_info": {
   "codemirror_mode": {
    "name": "ipython",
    "version": 3
   },
   "file_extension": ".py",
   "mimetype": "text/x-python",
   "name": "python",
   "nbconvert_exporter": "python",
   "pygments_lexer": "ipython3",
   "version": "3.10.9"
  }
 },
 "nbformat": 4,
 "nbformat_minor": 5
}
