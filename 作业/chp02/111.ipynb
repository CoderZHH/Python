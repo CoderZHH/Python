{
 "cells": [
  {
   "cell_type": "code",
   "execution_count": 4,
   "outputs": [],
   "source": [
    "import pandas as pd\n",
    "df = pd.read_csv('sc.csv',encoding='gbk')"
   ],
   "metadata": {
    "collapsed": false,
    "ExecuteTime": {
     "end_time": "2024-09-24T08:20:54.020709800Z",
     "start_time": "2024-09-24T08:20:54.004055200Z"
    }
   },
   "id": "c2ff903959220e47"
  },
  {
   "cell_type": "code",
   "execution_count": 5,
   "outputs": [
    {
     "data": {
      "text/plain": "                                             url_x  \\\n0  http://www.120ask.com/user/p/QvqH6mpHakReMyXlFY   \n1  http://www.120ask.com/user/p/QvqH6mpHakReMyXlFY   \n2  http://www.120ask.com/user/p/QvqH6mpHakReMyXlFY   \n3   http://www.120ask.com/user/p/gmdt6uyMbRlMCR0YY   \n4   http://www.120ask.com/user/p/gmdt6uyMbRlMCR0YY   \n\n                                   doctor_url  url_y  \\\n0  //www.120ask.com/user/p/QvqH6mpHakReMyXlFY     14   \n1  //www.120ask.com/user/p/QvqH6mpHakReMyXlFY     14   \n2  //www.120ask.com/user/p/QvqH6mpHakReMyXlFY     14   \n3   //www.120ask.com/user/p/gmdt6uyMbRlMCR0YY     13   \n4   //www.120ask.com/user/p/gmdt6uyMbRlMCR0YY     13   \n\n                                   question_url  answer_no  \\\n0  https://www.120ask.com/question/75870701.htm          3   \n1  https://www.120ask.com/question/75862084.htm          2   \n2  https://www.120ask.com/question/75859168.htm          2   \n3  https://www.120ask.com/question/75935346.htm          4   \n4  https://www.120ask.com/question/75925694.htm          2   \n\n               answer_time  answer_followup_questionNum  \\\n0  ['2019-02-12 12:07:34']                            0   \n1  ['2019-02-12 12:05:02']                            0   \n2  ['2019-02-12 12:02:49']                            0   \n3  ['2019-02-17 15:57:59']                            0   \n4  ['2019-02-16 19:13:44']                            0   \n\n   answer_followup_answerNum                                   content_url  \\\n0                          0  https://www.120ask.com/question/75870701.htm   \n1                          0  https://www.120ask.com/question/75862084.htm   \n2                          0  https://www.120ask.com/question/75859168.htm   \n3                          0  https://www.120ask.com/question/75935346.htm   \n4                          0  https://www.120ask.com/question/75925694.htm   \n\n     question_time patient_sex patient_age answer_number  pictures_flag  \\\n0  2019/2/12 12:01           女         28岁          3人回复              1   \n1  2019/2/11 17:20           男         16岁          2人回复              1   \n2  2019/2/11 12:52           女         25岁          3人回复              0   \n3  2019/2/17 15:52           女         30岁          4人回复              0   \n4  2019/2/16 19:09           女         32岁          4人回复              0   \n\n   pictures_number   reward  fileno  fileclass  answer_strlen  \n0                1  悬赏[]健康币     102          1            211  \n1                1  悬赏[]健康币     102          1            148  \n2                0  悬赏[]健康币     104          1             74  \n3                0  悬赏2个健康币     118          1             98  \n4                0  悬赏[]健康币     118          1             88  ",
      "text/html": "<div>\n<style scoped>\n    .dataframe tbody tr th:only-of-type {\n        vertical-align: middle;\n    }\n\n    .dataframe tbody tr th {\n        vertical-align: top;\n    }\n\n    .dataframe thead th {\n        text-align: right;\n    }\n</style>\n<table border=\"1\" class=\"dataframe\">\n  <thead>\n    <tr style=\"text-align: right;\">\n      <th></th>\n      <th>url_x</th>\n      <th>doctor_url</th>\n      <th>url_y</th>\n      <th>question_url</th>\n      <th>answer_no</th>\n      <th>answer_time</th>\n      <th>answer_followup_questionNum</th>\n      <th>answer_followup_answerNum</th>\n      <th>content_url</th>\n      <th>question_time</th>\n      <th>patient_sex</th>\n      <th>patient_age</th>\n      <th>answer_number</th>\n      <th>pictures_flag</th>\n      <th>pictures_number</th>\n      <th>reward</th>\n      <th>fileno</th>\n      <th>fileclass</th>\n      <th>answer_strlen</th>\n    </tr>\n  </thead>\n  <tbody>\n    <tr>\n      <th>0</th>\n      <td>http://www.120ask.com/user/p/QvqH6mpHakReMyXlFY</td>\n      <td>//www.120ask.com/user/p/QvqH6mpHakReMyXlFY</td>\n      <td>14</td>\n      <td>https://www.120ask.com/question/75870701.htm</td>\n      <td>3</td>\n      <td>['2019-02-12 12:07:34']</td>\n      <td>0</td>\n      <td>0</td>\n      <td>https://www.120ask.com/question/75870701.htm</td>\n      <td>2019/2/12 12:01</td>\n      <td>女</td>\n      <td>28岁</td>\n      <td>3人回复</td>\n      <td>1</td>\n      <td>1</td>\n      <td>悬赏[]健康币</td>\n      <td>102</td>\n      <td>1</td>\n      <td>211</td>\n    </tr>\n    <tr>\n      <th>1</th>\n      <td>http://www.120ask.com/user/p/QvqH6mpHakReMyXlFY</td>\n      <td>//www.120ask.com/user/p/QvqH6mpHakReMyXlFY</td>\n      <td>14</td>\n      <td>https://www.120ask.com/question/75862084.htm</td>\n      <td>2</td>\n      <td>['2019-02-12 12:05:02']</td>\n      <td>0</td>\n      <td>0</td>\n      <td>https://www.120ask.com/question/75862084.htm</td>\n      <td>2019/2/11 17:20</td>\n      <td>男</td>\n      <td>16岁</td>\n      <td>2人回复</td>\n      <td>1</td>\n      <td>1</td>\n      <td>悬赏[]健康币</td>\n      <td>102</td>\n      <td>1</td>\n      <td>148</td>\n    </tr>\n    <tr>\n      <th>2</th>\n      <td>http://www.120ask.com/user/p/QvqH6mpHakReMyXlFY</td>\n      <td>//www.120ask.com/user/p/QvqH6mpHakReMyXlFY</td>\n      <td>14</td>\n      <td>https://www.120ask.com/question/75859168.htm</td>\n      <td>2</td>\n      <td>['2019-02-12 12:02:49']</td>\n      <td>0</td>\n      <td>0</td>\n      <td>https://www.120ask.com/question/75859168.htm</td>\n      <td>2019/2/11 12:52</td>\n      <td>女</td>\n      <td>25岁</td>\n      <td>3人回复</td>\n      <td>0</td>\n      <td>0</td>\n      <td>悬赏[]健康币</td>\n      <td>104</td>\n      <td>1</td>\n      <td>74</td>\n    </tr>\n    <tr>\n      <th>3</th>\n      <td>http://www.120ask.com/user/p/gmdt6uyMbRlMCR0YY</td>\n      <td>//www.120ask.com/user/p/gmdt6uyMbRlMCR0YY</td>\n      <td>13</td>\n      <td>https://www.120ask.com/question/75935346.htm</td>\n      <td>4</td>\n      <td>['2019-02-17 15:57:59']</td>\n      <td>0</td>\n      <td>0</td>\n      <td>https://www.120ask.com/question/75935346.htm</td>\n      <td>2019/2/17 15:52</td>\n      <td>女</td>\n      <td>30岁</td>\n      <td>4人回复</td>\n      <td>0</td>\n      <td>0</td>\n      <td>悬赏2个健康币</td>\n      <td>118</td>\n      <td>1</td>\n      <td>98</td>\n    </tr>\n    <tr>\n      <th>4</th>\n      <td>http://www.120ask.com/user/p/gmdt6uyMbRlMCR0YY</td>\n      <td>//www.120ask.com/user/p/gmdt6uyMbRlMCR0YY</td>\n      <td>13</td>\n      <td>https://www.120ask.com/question/75925694.htm</td>\n      <td>2</td>\n      <td>['2019-02-16 19:13:44']</td>\n      <td>0</td>\n      <td>0</td>\n      <td>https://www.120ask.com/question/75925694.htm</td>\n      <td>2019/2/16 19:09</td>\n      <td>女</td>\n      <td>32岁</td>\n      <td>4人回复</td>\n      <td>0</td>\n      <td>0</td>\n      <td>悬赏[]健康币</td>\n      <td>118</td>\n      <td>1</td>\n      <td>88</td>\n    </tr>\n  </tbody>\n</table>\n</div>"
     },
     "execution_count": 5,
     "metadata": {},
     "output_type": "execute_result"
    }
   ],
   "source": [
    "df.head()"
   ],
   "metadata": {
    "collapsed": false,
    "ExecuteTime": {
     "end_time": "2024-09-24T08:20:54.033239200Z",
     "start_time": "2024-09-24T08:20:54.017709200Z"
    }
   },
   "id": "a325995f239f36c"
  }
 ],
 "metadata": {
  "kernelspec": {
   "display_name": "Python 3",
   "language": "python",
   "name": "python3"
  },
  "language_info": {
   "codemirror_mode": {
    "name": "ipython",
    "version": 2
   },
   "file_extension": ".py",
   "mimetype": "text/x-python",
   "name": "python",
   "nbconvert_exporter": "python",
   "pygments_lexer": "ipython2",
   "version": "2.7.6"
  }
 },
 "nbformat": 4,
 "nbformat_minor": 5
}
