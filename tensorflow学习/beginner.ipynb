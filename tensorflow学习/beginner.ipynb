{
 "cells": [
  {
   "cell_type": "markdown",
   "metadata": {
    "id": "3wF5wszaj97Y"
   },
   "source": [
    "# 初学者的 TensorFlow 2.0 教程"
   ]
  },
  {
   "cell_type": "code",
   "execution_count": 1,
   "metadata": {
    "id": "0trJmd6DjqBZ",
    "ExecuteTime": {
     "end_time": "2024-09-16T08:28:36.816937200Z",
     "start_time": "2024-09-16T08:28:32.954822700Z"
    }
   },
   "outputs": [],
   "source": [
    "import tensorflow as tf"
   ]
  },
  {
   "cell_type": "markdown",
   "source": [
    "如果您在自己的开发环境而不是 [Colab](https://colab.research.google.com/github/tensorflow/docs/blob/master/site/en/tutorials/quickstart/beginner.ipynb) 中操作，请参阅设置 TensorFlow 以进行开发的[安装指南](https://tensorflow.google.cn/install)。\n",
    "\n",
    "注：如果您使用自己的开发环境，请确保您已升级到最新的 `pip` 以安装 TensorFlow 2 软件包。有关详情，请参阅[安装指南](https://tensorflow.google.cn/install)。\n",
    "\n",
    "## 加载数据集\n",
    "\n",
    "加载并准备 [MNIST 数据集](http://yann.lecun.com/exdb/mnist/)。将样本数据从整数转换为浮点数："
   ],
   "metadata": {
    "collapsed": false
   }
  },
  {
   "cell_type": "code",
   "execution_count": 2,
   "metadata": {
    "id": "7FP5258xjs-v",
    "ExecuteTime": {
     "end_time": "2024-09-16T08:28:39.003099Z",
     "start_time": "2024-09-16T08:28:36.817963700Z"
    }
   },
   "outputs": [
    {
     "name": "stdout",
     "output_type": "stream",
     "text": [
      "Downloading data from https://storage.googleapis.com/tensorflow/tf-keras-datasets/mnist.npz\n",
      "11490434/11490434 [==============================] - 1s 0us/step\n"
     ]
    }
   ],
   "source": [
    "mnist = tf.keras.datasets.mnist\n",
    "\n",
    "(x_train, y_train), (x_test, y_test) = mnist.load_data()\n",
    "x_train, x_test = x_train / 255.0, x_test / 255.0"
   ]
  },
  {
   "cell_type": "markdown",
   "metadata": {
    "id": "BPZ68wASog_I"
   },
   "source": [
    "## 构建机器学习模型\n",
    "\n",
    "通过堆叠层来构建 `tf.keras.Sequential` 模型。"
   ]
  },
  {
   "cell_type": "code",
   "execution_count": 3,
   "metadata": {
    "id": "h3IKyzTCDNGo",
    "ExecuteTime": {
     "end_time": "2024-09-16T08:28:40.361953300Z",
     "start_time": "2024-09-16T08:28:39.005605300Z"
    }
   },
   "outputs": [],
   "source": [
    "model = tf.keras.models.Sequential([\n",
    "  tf.keras.layers.Flatten(input_shape=(28, 28)),\n",
    "  tf.keras.layers.Dense(128, activation='relu'),\n",
    "  tf.keras.layers.Dropout(0.2),\n",
    "  tf.keras.layers.Dense(10)\n",
    "])"
   ]
  },
  {
   "cell_type": "markdown",
   "metadata": {
    "id": "l2hiez2eIUz8"
   },
   "source": [
    "对于每个样本，模型都会返回一个包含 [logits](https://developers.google.com/machine-learning/glossary#logits) 或 [log-odds](https://developers.google.com/machine-learning/glossary#log-odds) 分数的向量，每个类一个。"
   ]
  },
  {
   "cell_type": "code",
   "execution_count": 4,
   "metadata": {
    "id": "OeOrNdnkEEcR",
    "ExecuteTime": {
     "end_time": "2024-09-16T08:28:42.035839100Z",
     "start_time": "2024-09-16T08:28:40.363955400Z"
    }
   },
   "outputs": [
    {
     "data": {
      "text/plain": "array([[ 0.08706942, -0.24765234, -0.35373405,  0.13567466, -0.15034369,\n        -0.00750189, -0.76972854, -0.00473149, -0.6176619 , -0.04062864]],\n      dtype=float32)"
     },
     "execution_count": 4,
     "metadata": {},
     "output_type": "execute_result"
    }
   ],
   "source": [
    "predictions = model(x_train[:1]).numpy()\n",
    "predictions"
   ]
  },
  {
   "cell_type": "markdown",
   "metadata": {
    "id": "tgjhDQGcIniO"
   },
   "source": [
    "`tf.nn.softmax` 函数将这些 logits 转换为每个类的*概率*： "
   ]
  },
  {
   "cell_type": "code",
   "execution_count": 5,
   "metadata": {
    "id": "zWSRnQ0WI5eq",
    "ExecuteTime": {
     "end_time": "2024-09-16T08:28:42.081844Z",
     "start_time": "2024-09-16T08:28:42.037283100Z"
    }
   },
   "outputs": [
    {
     "data": {
      "text/plain": "array([[0.12790248, 0.09151897, 0.0823077 , 0.13427277, 0.10087226,\n        0.11636093, 0.05429706, 0.11668374, 0.0632147 , 0.11256941]],\n      dtype=float32)"
     },
     "execution_count": 5,
     "metadata": {},
     "output_type": "execute_result"
    }
   ],
   "source": [
    "tf.nn.softmax(predictions).numpy()"
   ]
  },
  {
   "cell_type": "markdown",
   "metadata": {
    "id": "he5u_okAYS4a"
   },
   "source": [
    "注：可以将 `tf.nn.softmax` 烘焙到网络最后一层的激活函数中。虽然这可以使模型输出更易解释，但不建议使用这种方式，因为在使用 softmax 输出时不可能为所有模型提供精确且数值稳定的损失计算。 "
   ]
  },
  {
   "cell_type": "markdown",
   "metadata": {
    "id": "hQyugpgRIyrA"
   },
   "source": [
    "使用 `losses.SparseCategoricalCrossentropy` 为训练定义损失函数，它会接受 logits 向量和 `True` 索引，并为每个样本返回一个标量损失。"
   ]
  },
  {
   "cell_type": "code",
   "execution_count": 6,
   "metadata": {
    "id": "RSkzdv8MD0tT",
    "ExecuteTime": {
     "end_time": "2024-09-16T08:28:42.082850900Z",
     "start_time": "2024-09-16T08:28:42.054040500Z"
    }
   },
   "outputs": [],
   "source": [
    "loss_fn = tf.keras.losses.SparseCategoricalCrossentropy(from_logits=True)"
   ]
  },
  {
   "cell_type": "markdown",
   "metadata": {
    "id": "SfR4MsSDU880"
   },
   "source": [
    "此损失等于 true 类的负对数概率：如果模型确定类正确，则损失为零。\n",
    "\n",
    "这个未经训练的模型给出的概率接近随机（每个类为 1/10），因此初始损失应该接近 `-tf.math.log(1/10) ~= 2.3`。"
   ]
  },
  {
   "cell_type": "code",
   "execution_count": 7,
   "metadata": {
    "id": "NJWqEVrrJ7ZB",
    "ExecuteTime": {
     "end_time": "2024-09-16T08:28:42.173029900Z",
     "start_time": "2024-09-16T08:28:42.067807200Z"
    }
   },
   "outputs": [
    {
     "data": {
      "text/plain": "2.1510584"
     },
     "execution_count": 7,
     "metadata": {},
     "output_type": "execute_result"
    }
   ],
   "source": [
    "loss_fn(y_train[:1], predictions).numpy()"
   ]
  },
  {
   "cell_type": "markdown",
   "metadata": {
    "id": "ada44eb947d4"
   },
   "source": [
    "在开始训练之前，使用 Keras `Model.compile` 配置和编译模型。将 [`optimizer`](https://tensorflow.google.cn/api_docs/python/tf/keras/optimizers) 类设置为 `adam`，将 `loss` 设置为您之前定义的 `loss_fn` 函数，并通过将 `metrics` 参数设置为 `accuracy` 来指定要为模型评估的指标。"
   ]
  },
  {
   "cell_type": "code",
   "execution_count": 8,
   "metadata": {
    "id": "9foNKHzTD2Vo",
    "ExecuteTime": {
     "end_time": "2024-09-16T08:28:42.180825200Z",
     "start_time": "2024-09-16T08:28:42.114636500Z"
    }
   },
   "outputs": [],
   "source": [
    "model.compile(optimizer='adam',\n",
    "              loss=loss_fn,\n",
    "              metrics=['accuracy'])"
   ]
  },
  {
   "cell_type": "markdown",
   "metadata": {
    "id": "ix4mEL65on-w"
   },
   "source": [
    "## 训练并评估模型\n",
    "\n",
    "使用 `Model.fit` 方法调整您的模型参数并最小化损失： "
   ]
  },
  {
   "cell_type": "code",
   "execution_count": 9,
   "metadata": {
    "id": "y7suUbJXVLqP",
    "ExecuteTime": {
     "end_time": "2024-09-16T08:29:03.969664500Z",
     "start_time": "2024-09-16T08:28:42.145915700Z"
    }
   },
   "outputs": [
    {
     "name": "stdout",
     "output_type": "stream",
     "text": [
      "Epoch 1/5\n",
      "1875/1875 [==============================] - 5s 2ms/step - loss: 0.3033 - accuracy: 0.9121\n",
      "Epoch 2/5\n",
      "1875/1875 [==============================] - 4s 2ms/step - loss: 0.1483 - accuracy: 0.9559\n",
      "Epoch 3/5\n",
      "1875/1875 [==============================] - 4s 2ms/step - loss: 0.1136 - accuracy: 0.9659\n",
      "Epoch 4/5\n",
      "1875/1875 [==============================] - 4s 2ms/step - loss: 0.0920 - accuracy: 0.9712\n",
      "Epoch 5/5\n",
      "1875/1875 [==============================] - 4s 2ms/step - loss: 0.0778 - accuracy: 0.9758\n"
     ]
    },
    {
     "data": {
      "text/plain": "<keras.callbacks.History at 0x1d290651190>"
     },
     "execution_count": 9,
     "metadata": {},
     "output_type": "execute_result"
    }
   ],
   "source": [
    "model.fit(x_train, y_train, epochs=5)"
   ]
  },
  {
   "cell_type": "markdown",
   "metadata": {
    "id": "4mDAAPFqVVgn"
   },
   "source": [
    "`Model.evaluate` 方法通常在 \"[Validation-set](https://developers.google.com/machine-learning/glossary#validation-set)\" 或 \"[Test-set](https://developers.google.com/machine-learning/glossary#test-set)\" 上检查模型性能。"
   ]
  },
  {
   "cell_type": "code",
   "execution_count": 10,
   "metadata": {
    "id": "F7dTAzgHDUh7",
    "ExecuteTime": {
     "end_time": "2024-09-16T08:29:04.684141300Z",
     "start_time": "2024-09-16T08:29:03.968657Z"
    }
   },
   "outputs": [
    {
     "name": "stdout",
     "output_type": "stream",
     "text": [
      "313/313 - 1s - loss: 0.0678 - accuracy: 0.9793 - 652ms/epoch - 2ms/step\n"
     ]
    },
    {
     "data": {
      "text/plain": "[0.06776973605155945, 0.9793000221252441]"
     },
     "execution_count": 10,
     "metadata": {},
     "output_type": "execute_result"
    }
   ],
   "source": [
    "model.evaluate(x_test,  y_test, verbose=2)"
   ]
  },
  {
   "cell_type": "markdown",
   "metadata": {
    "id": "T4JfEh7kvx6m"
   },
   "source": [
    "现在，这个照片分类器的准确度已经达到 98%。想要了解更多，请阅读 [TensorFlow 教程](https://tensorflow.google.cn/tutorials/)。"
   ]
  },
  {
   "cell_type": "markdown",
   "metadata": {
    "id": "Aj8NrlzlJqDG"
   },
   "source": [
    "如果您想让模型返回概率，可以封装经过训练的模型，并将 softmax 附加到该模型："
   ]
  },
  {
   "cell_type": "code",
   "execution_count": 11,
   "metadata": {
    "id": "rYb6DrEH0GMv",
    "ExecuteTime": {
     "end_time": "2024-09-16T08:29:04.755489800Z",
     "start_time": "2024-09-16T08:29:04.682124300Z"
    }
   },
   "outputs": [],
   "source": [
    "probability_model = tf.keras.Sequential([\n",
    "  model,\n",
    "  tf.keras.layers.Softmax()\n",
    "])"
   ]
  },
  {
   "cell_type": "code",
   "execution_count": 12,
   "metadata": {
    "id": "cnqOZtUp1YR_",
    "ExecuteTime": {
     "end_time": "2024-09-16T08:29:04.759888900Z",
     "start_time": "2024-09-16T08:29:04.712009300Z"
    }
   },
   "outputs": [
    {
     "data": {
      "text/plain": "<tf.Tensor: shape=(5, 10), dtype=float32, numpy=\narray([[1.1428954e-07, 1.0422523e-08, 5.9129384e-06, 9.8103570e-05,\n        9.6591572e-12, 1.3992313e-07, 5.2475450e-13, 9.9989188e-01,\n        5.8532737e-07, 3.2857463e-06],\n       [4.9927507e-08, 2.3798124e-05, 9.9997592e-01, 1.4980915e-07,\n        1.0107405e-16, 3.9909061e-08, 1.7710319e-08, 5.7444548e-14,\n        1.0519833e-07, 6.2000047e-14],\n       [1.9570288e-07, 9.9805766e-01, 3.6780885e-04, 5.8330579e-06,\n        5.7589677e-06, 3.6658951e-06, 1.9785537e-05, 1.3881406e-03,\n        1.5054835e-04, 5.4826592e-07],\n       [9.9997282e-01, 4.9455590e-10, 1.6936481e-05, 2.1083267e-08,\n        6.0458056e-09, 1.3322247e-06, 2.4969354e-06, 6.1352798e-06,\n        6.0684728e-09, 2.9052225e-07],\n       [3.6599366e-05, 4.6704272e-09, 1.4177052e-05, 8.5130800e-09,\n        9.9715364e-01, 2.1816984e-06, 2.1543970e-05, 3.1760120e-04,\n        5.0043982e-06, 2.4493090e-03]], dtype=float32)>"
     },
     "execution_count": 12,
     "metadata": {},
     "output_type": "execute_result"
    }
   ],
   "source": [
    "probability_model(x_test[:5])"
   ]
  }
 ],
 "metadata": {
  "colab": {
   "collapsed_sections": [
    "rX8mhOLljYeM"
   ],
   "name": "beginner.ipynb",
   "toc_visible": true
  },
  "kernelspec": {
   "name": "python3",
   "language": "python",
   "display_name": "Python 3 (ipykernel)"
  }
 },
 "nbformat": 4,
 "nbformat_minor": 0
}
